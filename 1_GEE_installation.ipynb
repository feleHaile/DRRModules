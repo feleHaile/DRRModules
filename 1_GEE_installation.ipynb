{
 "cells": [
  {
   "cell_type": "markdown",
   "metadata": {},
   "source": [
    "______\n",
    "\n",
    "## Google Earth Engine Tutorial\n",
    "\n",
    "### Installation\n",
    "_____\n",
    "\n"
   ]
  },
  {
   "cell_type": "markdown",
   "metadata": {},
   "source": [
    "This tutorial includes basic operations that can be executed using the Pyhton API of Google Earth Engine (GEE) on Windows.\n",
    "GEE is a cloud platform to perform large scale analysis on Earth science data.\n",
    "\n",
    "\n"
   ]
  },
  {
   "cell_type": "markdown",
   "metadata": {},
   "source": [
    "## Python API Installation "
   ]
  },
  {
   "cell_type": "markdown",
   "metadata": {},
   "source": [
    "\n",
    "Before the installation, you should sign up in GEE. \n",
    "This can be done in: https://signup.earthengine.google.com.\n",
    "\n",
    "We will use python 3.5 or higher and pip.\n",
    "\n",
    "Install Microsoft visual studio in:   https://visualstudio.microsoft.com/downloads/\n",
    "\n",
    "Install Anaconda 3 -- python 3 default in: https://www.anaconda.com/distribution/"
   ]
  },
  {
   "attachments": {},
   "cell_type": "markdown",
   "metadata": {},
   "source": [
    "In the anaconda prompt, execute the following steps:\n",
    "\n",
    "(1) conda create -n ee_py3 -c conda-forge python=3 google-api-python-client pyCrypto spyder jupyter <br>\n",
    "\n",
    "<img src=\"./imgs/install_1.png\" />"
   ]
  },
  {
   "attachments": {},
   "cell_type": "markdown",
   "metadata": {},
   "source": [
    "(2) activate ee_py3 <br>\n",
    "<img src=\"./imgs/install_2.png\" />\n",
    "\n",
    " >You can deactivate the python environment with <i>conda deactivate<i>"
   ]
  },
  {
   "attachments": {},
   "cell_type": "markdown",
   "metadata": {},
   "source": [
    "(3) python -c \"from oauth2client import crypt\"   <br>\n",
    "<img src=\"./imgs/install_3.png\" /> <br>\n",
    "> upgrade if necessary with <i>pip install --upgrade oauth2client<i>\n"
   ]
  },
  {
   "attachments": {},
   "cell_type": "markdown",
   "metadata": {},
   "source": [
    "(4) earthengine authenticate <br>\n",
    "<img src=\"./imgs/install_4.png\" />"
   ]
  },
  {
   "attachments": {},
   "cell_type": "markdown",
   "metadata": {},
   "source": [
    "(4) The above instruction will open a browser and request to sign using your google account (if you are not already signed). <br>\n",
    "<img src=\"./imgs/install_5.png\" /> <br>\n",
    "The GEE athenticator will also ask for permission to manage your data."
   ]
  },
  {
   "attachments": {},
   "cell_type": "markdown",
   "metadata": {},
   "source": [
    "(5) After giving permission, GEE will provide a token. <br>\n",
    "\n",
    "<img src=\"./imgs/install_6.png\" />"
   ]
  },
  {
   "attachments": {},
   "cell_type": "markdown",
   "metadata": {},
   "source": [
    "(7) Copy the token and paste in the windows console  <br>\n",
    "<img src=\"./imgs/install_7.png\" />"
   ]
  },
  {
   "attachments": {},
   "cell_type": "markdown",
   "metadata": {},
   "source": [
    "(8) The authorization code is saved and you can start to use the GEE python API.  <br>\n",
    "<img src=\"./imgs/install_8.png\" /> <br>\n",
    "This authentication process creates a credential file located typically in: <br>\n",
    "<i>C:\\Users\\username\\.config\\earthengine</i> \n",
    "<img src=\"./imgs/install_9.png\" /> <br>\n",
    "This credential is related to the specific google account used during login (step 4).<br>\n"
   ]
  },
  {
   "cell_type": "markdown",
   "metadata": {},
   "source": [
    "### Testing your installation\n"
   ]
  },
  {
   "cell_type": "markdown",
   "metadata": {},
   "source": [
    "Open Spyder and in a new jupyter notebook file, copy and paste the following code: <br>"
   ]
  },
  {
   "cell_type": "markdown",
   "metadata": {},
   "source": [
    "# Import the Earth Engine Python Package <br>\n",
    "<i><b>import ee </b></i><br>\n",
    "# Initialize the Earth Engine object <br>\n",
    "<i><b> ee.Initialize() </b></i><br>\n",
    "# Print the information for an image asset. <br>\n",
    "<i><b> image = ee.Image('srtm90_v4')</b></i> <br>\n",
    "<i><b> print(image.getInfo()) </b></i> <br>"
   ]
  },
  {
   "attachments": {},
   "cell_type": "markdown",
   "metadata": {},
   "source": [
    "The above command should produce an output like this:<br>\n",
    "<img src=\"./imgs/install_10.png\" />\n"
   ]
  }
 ],
 "metadata": {
  "kernelspec": {
   "display_name": "Python 3 (Spyder)",
   "language": "python3",
   "name": "python3"
  },
  "language_info": {
   "codemirror_mode": {
    "name": "ipython",
    "version": 3
   },
   "file_extension": ".py",
   "mimetype": "text/x-python",
   "name": "python",
   "nbconvert_exporter": "python",
   "pygments_lexer": "ipython3",
   "version": "3.7.1"
  }
 },
 "nbformat": 4,
 "nbformat_minor": 2
}
